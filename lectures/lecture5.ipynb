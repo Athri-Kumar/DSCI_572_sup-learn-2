{
 "cells": [
  {
   "cell_type": "markdown",
   "metadata": {},
   "source": [
    "# DSCI 572 \"lecture\" 5"
   ]
  },
  {
   "cell_type": "code",
   "execution_count": 16,
   "metadata": {},
   "outputs": [],
   "source": [
    "import numpy as np\n",
    "import numpy.random as npr\n",
    "import matplotlib.pyplot as plt\n",
    "%matplotlib inline\n",
    "\n",
    "from keras.models import Sequential\n",
    "from keras.layers import Dense\n",
    "from keras.utils import np_utils\n",
    "\n",
    "from sklearn import datasets\n",
    "from sklearn.model_selection import train_test_split"
   ]
  },
  {
   "cell_type": "code",
   "execution_count": 17,
   "metadata": {},
   "outputs": [],
   "source": [
    "plt.rcParams['font.size'] = 16"
   ]
  },
  {
   "cell_type": "code",
   "execution_count": 18,
   "metadata": {},
   "outputs": [
    {
     "data": {
      "application/javascript": [
       "IPython.notebook.set_autosave_interval(0)"
      ]
     },
     "metadata": {},
     "output_type": "display_data"
    },
    {
     "name": "stdout",
     "output_type": "stream",
     "text": [
      "Autosave disabled\n"
     ]
    }
   ],
   "source": [
    "%autosave 0"
   ]
  },
  {
   "cell_type": "markdown",
   "metadata": {},
   "source": [
    "## The plan\n",
    "\n",
    "- True/false questions (10 min)\n",
    "- Classification / softmax / Keras (10 min)\n",
    "- More true/false questions (10 min)\n",
    "- Break (5 min)\n",
    "- Optimization (10 min)\n",
    "- Fundamental tradeoff (10 min)\n",
    "- More true/false questions (10 min)\n",
    "- Summary / preview (5 min)\n",
    "- Discussion with block rep (5-10 min)"
   ]
  },
  {
   "cell_type": "markdown",
   "metadata": {},
   "source": [
    "## True/false questions left over from last class (10 min)\n",
    "\n",
    "1. Any neural network with 3 hidden layers will have more parameters than any neural network with 2 hidden layers.\n",
    "2. With neural networks, we have a potentially large number of **discrete** hyperparamaters. \n",
    "3. With neural networks, we have a potentially large number of **discrete** paramaters. \n",
    "4. Like linear regression or logistic regression, with neural networks we can interpret each feature's weight value as a measure of the feature's importance.\n",
    "\n",
    "<br><br><br><br><br><br><br><br><br>"
   ]
  },
  {
   "cell_type": "markdown",
   "metadata": {},
   "source": [
    "## Classification / softmax (10 min)"
   ]
  },
  {
   "cell_type": "markdown",
   "metadata": {},
   "source": [
    "- To use a neural net for classification, we take advantage of the fact that the output doesn't have to be 1-dimensional ($k>1$)\n",
    "- For example, with the digits dataset there are $10$ classes, so we set the size of the last layer to $k=10$ and use a _one-hot encoding_ for the data\n",
    "- We can then use the softmax loss - in other words, we're doing logistic regression using the \"features\" learned by all previous layers"
   ]
  },
  {
   "cell_type": "code",
   "execution_count": 19,
   "metadata": {},
   "outputs": [],
   "source": [
    "digits = datasets.load_digits()\n",
    "X = digits['data']/255\n",
    "y = digits['target']"
   ]
  },
  {
   "cell_type": "code",
   "execution_count": 20,
   "metadata": {},
   "outputs": [
    {
     "data": {
      "text/plain": [
       "(1797,)"
      ]
     },
     "execution_count": 20,
     "metadata": {},
     "output_type": "execute_result"
    }
   ],
   "source": [
    "y.shape"
   ]
  },
  {
   "cell_type": "code",
   "execution_count": 21,
   "metadata": {},
   "outputs": [],
   "source": [
    "Y = np_utils.to_categorical(y, 10) # make it 1-hot"
   ]
  },
  {
   "cell_type": "code",
   "execution_count": 22,
   "metadata": {},
   "outputs": [
    {
     "data": {
      "text/plain": [
       "(1797, 10)"
      ]
     },
     "execution_count": 22,
     "metadata": {},
     "output_type": "execute_result"
    }
   ],
   "source": [
    "Y.shape"
   ]
  },
  {
   "cell_type": "code",
   "execution_count": 23,
   "metadata": {
    "scrolled": true
   },
   "outputs": [
    {
     "name": "stdout",
     "output_type": "stream",
     "text": [
      "[[1. 0. 0. ... 0. 0. 0.]\n",
      " [0. 1. 0. ... 0. 0. 0.]\n",
      " [0. 0. 1. ... 0. 0. 0.]\n",
      " ...\n",
      " [0. 0. 0. ... 0. 1. 0.]\n",
      " [0. 0. 0. ... 0. 0. 1.]\n",
      " [0. 0. 0. ... 0. 1. 0.]]\n"
     ]
    }
   ],
   "source": [
    "print(Y)"
   ]
  },
  {
   "cell_type": "code",
   "execution_count": 24,
   "metadata": {},
   "outputs": [],
   "source": [
    "X_train, X_test, Y_train, Y_test = train_test_split(X, Y, test_size=0.33, random_state=42)"
   ]
  },
  {
   "cell_type": "code",
   "execution_count": 25,
   "metadata": {},
   "outputs": [],
   "source": [
    "model = Sequential()\n",
    "model.add(Dense(500, input_dim=X.shape[1], activation='relu'))\n",
    "model.add(Dense(500, activation='relu'))\n",
    "model.add(Dense(10, activation='softmax'))"
   ]
  },
  {
   "cell_type": "markdown",
   "metadata": {},
   "source": [
    "Above: last layer size is 10, softmax activation."
   ]
  },
  {
   "cell_type": "code",
   "execution_count": 26,
   "metadata": {},
   "outputs": [],
   "source": [
    "model.compile(loss='categorical_crossentropy', optimizer='adam', metrics=['accuracy'])"
   ]
  },
  {
   "cell_type": "markdown",
   "metadata": {},
   "source": [
    "- Above: Mark should talk about the \"categorical cross-entropy loss\" a.k.a. \"softmax loss\". \n",
    "- But for now, that's just the loss we use for classification. \n",
    "- It's a generalization of the logistic loss to multi-class.\n",
    "- It's the exact same loss as multinomial (aka softmax) logistic regression."
   ]
  },
  {
   "cell_type": "code",
   "execution_count": 38,
   "metadata": {
    "scrolled": true
   },
   "outputs": [
    {
     "data": {
      "text/plain": [
       "<keras.callbacks.History at 0x1a25b24ef0>"
      ]
     },
     "execution_count": 38,
     "metadata": {},
     "output_type": "execute_result"
    }
   ],
   "source": [
    "model.fit(X_train, Y_train, epochs=10, verbose=0)"
   ]
  },
  {
   "cell_type": "code",
   "execution_count": 29,
   "metadata": {},
   "outputs": [
    {
     "name": "stdout",
     "output_type": "stream",
     "text": [
      "Training loss: 0.11\n",
      "Training acc: 0.97\n",
      "Test loss: 0.16\n",
      "Test acc: 0.95\n"
     ]
    }
   ],
   "source": [
    "training_loss = model.evaluate(X_train, Y_train, verbose=0)\n",
    "print(\"Training %s: %.2f\" % (model.metrics_names[0], training_loss[0]))\n",
    "print(\"Training %s: %.2f\" % (model.metrics_names[1], training_loss[1]))\n",
    "\n",
    "test_loss = model.evaluate(X_test, Y_test, verbose=0)\n",
    "print(\"Test %s: %.2f\" % (model.metrics_names[0], test_loss[0]))\n",
    "print(\"Test %s: %.2f\" % (model.metrics_names[1], test_loss[1]))"
   ]
  },
  {
   "cell_type": "markdown",
   "metadata": {},
   "source": [
    "Above: `training_loss` contains the loss and also the accuracy, since we asked for it above when we set `metrics=['accuracy']`."
   ]
  },
  {
   "cell_type": "code",
   "execution_count": 30,
   "metadata": {},
   "outputs": [
    {
     "data": {
      "text/plain": [
       "array([2.5961941e-07, 9.9155676e-01, 3.2677960e-07, 4.5283741e-05,\n",
       "       4.2650939e-04, 3.3287233e-06, 1.3379059e-05, 5.9656963e-06,\n",
       "       6.6208891e-03, 1.3273519e-03], dtype=float32)"
      ]
     },
     "execution_count": 30,
     "metadata": {},
     "output_type": "execute_result"
    }
   ],
   "source": [
    "probs = model.predict(X_train)[0]\n",
    "probs"
   ]
  },
  {
   "cell_type": "code",
   "execution_count": 31,
   "metadata": {},
   "outputs": [
    {
     "data": {
      "text/plain": [
       "1.0"
      ]
     },
     "execution_count": 31,
     "metadata": {},
     "output_type": "execute_result"
    }
   ],
   "source": [
    "np.sum(probs)"
   ]
  },
  {
   "cell_type": "code",
   "execution_count": 33,
   "metadata": {},
   "outputs": [
    {
     "data": {
      "text/plain": [
       "1"
      ]
     },
     "execution_count": 33,
     "metadata": {},
     "output_type": "execute_result"
    }
   ],
   "source": [
    "np.argmax(probs)"
   ]
  },
  {
   "cell_type": "code",
   "execution_count": 35,
   "metadata": {},
   "outputs": [
    {
     "data": {
      "text/plain": [
       "array([0., 1., 0., 0., 0., 0., 0., 0., 0., 0.], dtype=float32)"
      ]
     },
     "execution_count": 35,
     "metadata": {},
     "output_type": "execute_result"
    }
   ],
   "source": [
    "Y_train[0]"
   ]
  },
  {
   "cell_type": "markdown",
   "metadata": {},
   "source": [
    "## More true/false - stochastic gradient (10 min)\n",
    "\n",
    "1. For stochastic gradient to work, we need to increase the step size as the optimization proceeds.\n",
    "2. Stochastic gradient can be used for training many models, like logistic regression and random forests.\n",
    "3. An iteration of stochastic gradient might cause the loss might go up, even for a very small learning rate.\n",
    "4. It's not practical to check whether the loss went up or down after each iteration of stochastic gradient.\n",
    "\n",
    "<br><br><br><br><br><br><br><br><br>"
   ]
  },
  {
   "cell_type": "markdown",
   "metadata": {},
   "source": [
    "## Break (5 min)"
   ]
  },
  {
   "cell_type": "markdown",
   "metadata": {},
   "source": [
    "## Optimization (10 min)\n",
    "\n",
    "Let's modify the call to `fit` in two ways:\n",
    "\n",
    "1. Let's store the output of `fit`, which is a \"history\" object.\n",
    "2. Let's provide the validation set to `fit`."
   ]
  },
  {
   "cell_type": "code",
   "execution_count": 49,
   "metadata": {},
   "outputs": [],
   "source": [
    "model = Sequential()\n",
    "model.add(Dense(500, input_dim=X.shape[1], activation='relu'))\n",
    "model.add(Dense(500, activation='relu'))\n",
    "model.add(Dense(10, activation='softmax'))\n",
    "model.compile(loss='categorical_crossentropy', optimizer='adam', metrics=['accuracy'])\n",
    "history = model.fit(X_train, Y_train, epochs=40, verbose=0, validation_data=(X_test, Y_test))"
   ]
  },
  {
   "cell_type": "markdown",
   "metadata": {},
   "source": [
    "If this makes you uncomfortable, that's good. Are we violating the golden rule??"
   ]
  },
  {
   "cell_type": "code",
   "execution_count": 50,
   "metadata": {},
   "outputs": [
    {
     "data": {
      "image/png": "[encoded data removed]",
      "text/plain": [
       "<Figure size 432x288 with 1 Axes>"
      ]
     },
     "metadata": {},
     "output_type": "display_data"
    }
   ],
   "source": [
    "plt.plot(history.history['loss'])\n",
    "plt.plot(history.history['val_loss'])\n",
    "plt.ylabel('loss')\n",
    "plt.xlabel('epochs')\n",
    "plt.legend(['train', 'test']);"
   ]
  },
  {
   "cell_type": "markdown",
   "metadata": {},
   "source": [
    "#### epochs\n",
    "\n",
    "What are epochs?\n",
    "\n",
    "- An epoch is an entire pass through the training set.\n",
    "- With minibatch size of 1, an epoch is `n` iterations.\n",
    "- With a general minibatch size, \n",
    "\n",
    "$\\text{epochs} = \\frac{\\text{iterations}}{n}\\times \\text{batch size}$\n",
    "\n",
    "Example: if the dataset has $100,000$ examples and your minibatch size is $1000$, then an epoch is $100$ iterations of stochastic gradient descent."
   ]
  },
  {
   "cell_type": "markdown",
   "metadata": {},
   "source": [
    "Vocabulary (discussed in video / video slides):\n",
    "\n",
    "- epochs\n",
    "- early stopping\n",
    "- vanishing gradient\n",
    "- initialization\n",
    "- momentum "
   ]
  },
  {
   "cell_type": "markdown",
   "metadata": {
    "collapsed": true
   },
   "source": [
    "## The fundamental tradeoff, the 3 pieces of ML (10 min)\n",
    "\n",
    "- ~~You've covered~~ You're about to cover regularization in DSCI 573.\n",
    "- Neural nets use some standard regularization and some funny ones\n",
    "- _Weight decay_: just a name for L2-regularization on the weights\n",
    "- [Batch normalization](https://arxiv.org/abs/1502.03167) normalizes values during training\n",
    "- Dropout: randomly delete (set to 0) your activations\n",
    "  - this sounds crazy but there's a lot of intuition here\n",
    "  - preventing co-adaptation\n",
    "  - has an interpretation as ensembling models with different architectures\n",
    "  \n",
    "Also:\n",
    "\n",
    "- Things get weird when we start mixing the fundamental tradeoff and optimization.\n",
    "- Taking a step back, I view your decision-making process in ML as having three pieces:\n"
   ]
  },
  {
   "cell_type": "markdown",
   "metadata": {},
   "source": [
    "1. Pick your model\n",
    "2. Pick your loss\n",
    "3. Pick your optimizer"
   ]
  },
  {
   "cell_type": "markdown",
   "metadata": {},
   "source": [
    "Example:\n",
    "\n",
    "1. Neural network with one hidden layer of size 10\n",
    "2. Squared error\n",
    "3. Stochastic gradient\n",
    "\n",
    "It seems like the fundamental tradeoff is mainly a matter of (1) but... remember this?"
   ]
  },
  {
   "cell_type": "code",
   "execution_count": 51,
   "metadata": {},
   "outputs": [
    {
     "data": {
      "image/png": "[encoded data removed]",
      "text/plain": [
       "<Figure size 432x288 with 1 Axes>"
      ]
     },
     "metadata": {},
     "output_type": "display_data"
    }
   ],
   "source": [
    "plt.plot(history.history['loss'])\n",
    "plt.plot(history.history['val_loss'])\n",
    "plt.ylabel('loss')\n",
    "plt.xlabel('epochs')\n",
    "plt.legend(['train', 'test']);"
   ]
  },
  {
   "cell_type": "markdown",
   "metadata": {},
   "source": [
    "**Early stopping** mixes these ideas: if the model starts to overfit, stop the optimization.\n",
    "\n",
    "Note: it is easy to confuse the above type of plot with this type of plot, below:"
   ]
  },
  {
   "cell_type": "code",
   "execution_count": 61,
   "metadata": {},
   "outputs": [
    {
     "name": "stdout",
     "output_type": "stream",
     "text": [
      "10 110 210 310 410 510 610 710 810 910 "
     ]
    }
   ],
   "source": [
    "train_errs = list()\n",
    "test_errs = list()\n",
    "layer_sizes = [10,25,50,100,200,300,500,750,1000]\n",
    "for layer_size in layer_sizes:\n",
    "    print(layer_size, end=\" \")\n",
    "    model = Sequential()\n",
    "    model.add(Dense(layer_size, input_dim=X.shape[1], activation='relu'))\n",
    "    model.add(Dense(10, activation='softmax'))\n",
    "    model.compile(loss='categorical_crossentropy', optimizer='adam', metrics=['accuracy'])\n",
    "    history = model.fit(X_train, Y_train, epochs=10, verbose=0)\n",
    "    \n",
    "    train_errs.append( 1 - model.evaluate(X_train, Y_train, verbose=0)[1] )\n",
    "    test_errs.append(  1 - model.evaluate(X_test,  Y_test,  verbose=0)[1] )    "
   ]
  },
  {
   "cell_type": "code",
   "execution_count": 62,
   "metadata": {},
   "outputs": [
    {
     "data": {
      "image/png": "[encoded data removed]",
      "text/plain": [
       "<Figure size 432x288 with 1 Axes>"
      ]
     },
     "metadata": {},
     "output_type": "display_data"
    }
   ],
   "source": [
    "plt.plot(layer_sizes, train_errs, label=\"train\")\n",
    "plt.plot(layer_sizes, test_errs, label=\"test\")\n",
    "plt.legend()\n",
    "plt.xlabel(\"hidden layer size\");\n",
    "plt.ylabel(\"error\");"
   ]
  },
  {
   "cell_type": "markdown",
   "metadata": {},
   "source": [
    "These figures look similar but are plotting completely different things!!!!!"
   ]
  },
  {
   "cell_type": "markdown",
   "metadata": {},
   "source": [
    "## More true/false (10 min)\n",
    "\n",
    "1. Each iteration of stochastic gradient is faster than each iteration of gradient descent, but we likely need more iterations in total.\n",
    "2. One epoch of stochastic gradient takes about the same amount of time as one iteration of gradient descent.\n",
    "3. Stochastic gradient with a minibatch size of $n$ is the same thing as gradient descent.\n",
    "4. In terms of the fundamental tradeoff, more layers and larger layers both lead to lower training error.\n"
   ]
  },
  {
   "cell_type": "markdown",
   "metadata": {},
   "source": [
    "## Wrap-up (5 min)\n",
    "\n",
    "#### Summary\n",
    "\n",
    "- Neural nets for classification use one-hot encoding, softmax activation, cross-entropy loss.\n",
    "- Stochastic gradient allows for fast training on big data sets.\n",
    "- Optimization is complicated, can have many of its own hyperparameters; an area of active research.\n",
    "  - In fact, the choice of optimization algorithm can itself be considered a discrete hyperparameter.\n",
    "- Neural networks are very complex, reguarlization is hard.\n",
    "\n",
    "#### Preview\n",
    "\n",
    "- Next week: convolutional neural networks\n",
    "- State-of-the-art when inputs are signals: 1D (e.g. audio), 2D (e.g. image), 3D (e.g. video), etc."
   ]
  },
  {
   "cell_type": "markdown",
   "metadata": {},
   "source": [
    "## (optional) Backpropagation\n",
    "\n",
    "\n",
    "The squared loss (a not-uncommon choice for regression) is\n",
    "\n",
    "$$f\\left(\\{W^{(l)}\\}\\right)= \\sum_{i=1}^n \\left(y_i - \\hat{y}_i\\right)^2  $$\n",
    "\n",
    "Let's digest this...\n",
    "\n",
    "- by $\\{W^{(l)}\\}$ I mean the set of all $W$'s and all their elements\n",
    "- by $\\hat{y}_i$ I mean our prediction for example $x_i$, which we get from applying our recurrence relation $L$ times.\n",
    "\n",
    "We need $$\\frac{df}{dW}$$\n",
    "\n",
    "This is done via the chain rule. But we need to be careful not to _recompute_ things (remember dynamic programming?? it was all about not recomputing things). \n",
    "\n",
    "We can draw a graph of what depends on what. Consider $\\frac{\\partial f}{\\partial W^{(0)}_{11}}$ and $\\frac{\\partial f}{\\partial W^{(0)}_{12}}$. These two derivatives have a lot in commmon, namely...\n",
    "\n",
    "$$ \\frac{\\partial f}{\\partial x^{(L)}} \\frac{\\partial x^{(L)}}{\\partial x^{(L-1)}} \\cdots \\frac{\\partial x^{(2)}}{\\partial x^{(1)}} \\frac{\\partial x^{(1)}}{\\partial W^{(0)}}$$ \n",
    "\n",
    "only the last part is different.\n",
    "\n",
    "- The method for applying the chain rule and not re-computing anything is called **backpropagation** or backprop for short. \n",
    "- Backprop is reverse-mode differentiation. So packages like AutoGrad do it \"for free\".\n",
    "- Once we have the gradient, we can train with (stochastic) gradient descent. \n"
   ]
  },
  {
   "cell_type": "code",
   "execution_count": null,
   "metadata": {},
   "outputs": [],
   "source": []
  }
 ],
 "metadata": {
  "anaconda-cloud": {},
  "kernelspec": {
   "display_name": "Python [default]",
   "language": "python",
   "name": "python3"
  },
  "language_info": {
   "codemirror_mode": {
    "name": "ipython",
    "version": 3
   },
   "file_extension": ".py",
   "mimetype": "text/x-python",
   "name": "python",
   "nbconvert_exporter": "python",
   "pygments_lexer": "ipython3",
   "version": "3.6.5"
  }
 },
 "nbformat": 4,
 "nbformat_minor": 1
}
