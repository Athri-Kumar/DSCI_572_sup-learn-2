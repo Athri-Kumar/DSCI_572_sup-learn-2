{
 "cells": [
  {
   "cell_type": "markdown",
   "metadata": {},
   "source": [
    "# DSCI 572 \"lecture\" 2"
   ]
  },
  {
   "cell_type": "code",
   "execution_count": 1,
   "metadata": {},
   "outputs": [],
   "source": [
    "import numpy as np\n",
    "import matplotlib.pyplot as plt\n",
    "%matplotlib inline\n",
    "\n",
    "from sklearn.linear_model import LogisticRegression"
   ]
  },
  {
   "cell_type": "code",
   "execution_count": 2,
   "metadata": {},
   "outputs": [],
   "source": [
    "plt.rcParams['font.size'] = 16"
   ]
  },
  {
   "cell_type": "markdown",
   "metadata": {},
   "source": [
    "Outline:\n",
    "\n",
    "- True/False (25 min)\n",
    "- Sequences (10 min)\n",
    "- Break (5 min)\n",
    "- Optimization software (15 min)\n",
    "- Logistic regression (25 min)"
   ]
  },
  {
   "cell_type": "markdown",
   "metadata": {},
   "source": [
    "## Gradient descent true/false\n",
    "\n",
    "1. Before starting gradient descent, we don't know how many steps we'll need to reach a desired level of accuracy.\n",
    "2. To use gradient descent, we need to apply the gradient **operator** once, but evaluate the gradient **function** many times.\n",
    "3. The main disadvantage of setting the learning rate, $\\alpha$, too small is that convergence will be very slow.\n",
    "4. The main disadvantage of setting the learning rate, $\\alpha$, too large is that convergence will be very slow.\n",
    "\n",
    "<br><br><br><br><br><br><br><br><br><br>"
   ]
  },
  {
   "cell_type": "markdown",
   "metadata": {},
   "source": [
    "## Data space and parameter space T/F:\n",
    "\n",
    "1. In supervised learning, every point in the parameter space corresponds to a regression/classification surface in the data space.\n",
    "2. In general, dimensionality of the data space $\\geq$ dimensionality of the parameter space.\n",
    "3. Each iteration of gradient descent moves you to a new point in parameter space.\n",
    "4. The loss function defines a score for each point in data space.\n",
    "5. In logistic regression, the labels in the data space are discrete but the parameters are continuous. \n",
    "\n",
    "<br><br><br><br><br><br><br><br><br><br>"
   ]
  },
  {
   "cell_type": "markdown",
   "metadata": {},
   "source": [
    "## Sequences (10 min)\n",
    "\n",
    "- The idea of gradient descent relies on the idea of a _sequence_.\n",
    "- You may have seen sequences in math class, e.g.\n",
    "\n",
    "$$x_{i+1} = x_i + 1,\\quad x_0=0$$\n",
    "\n",
    "- The sequence is defined by explaining how the next iterate (i.e. the next $x$) is related to the previous one.\n",
    "- The sequence is $x_0=0,x_1=1,x_2=2,\\ldots,x_n=n$.\n",
    "- In this case, it would have been easier to just write $x_n=n$ and be done with it.\n",
    "- But that's not always possible - sometimes it gets complicated.\n",
    "\n",
    "Some \"notes\":\n",
    "\n",
    "- The above could have been defined as $x_i=x_{i-1}+1$, it makes no difference. \n",
    "- Some sequences depend on multiple previous values, like the Fibonnaci sequence $x_{i}=x_{i-1}+x_{i-2}$, but we can ignore these for now.\n",
    "  - In gradient descent the current iterate only depends on the previous one.\n",
    " "
   ]
  },
  {
   "cell_type": "markdown",
   "metadata": {},
   "source": [
    "#### Convergence\n",
    "\n",
    "- Some sequences _converge_ and others don't.\n",
    "- The one above doesn't coverge, but rather $x$ just keeps growing.\n",
    "- Here is a sequence that converges: $$x_{i+1}=x_{i}+ \\left(\\frac12\\right)^{i},\\quad x_0=0$$"
   ]
  },
  {
   "cell_type": "code",
   "execution_count": 3,
   "metadata": {},
   "outputs": [
    {
     "name": "stdout",
     "output_type": "stream",
     "text": [
      "0.5\n",
      "0.75\n",
      "0.875\n",
      "0.9375\n",
      "0.96875\n",
      "0.984375\n",
      "0.9921875\n",
      "0.99609375\n",
      "0.998046875\n",
      "0.9990234375\n",
      "0.99951171875\n",
      "0.999755859375\n",
      "0.9998779296875\n",
      "0.99993896484375\n",
      "0.999969482421875\n",
      "0.9999847412109375\n",
      "0.9999923706054688\n",
      "0.9999961853027344\n",
      "0.9999980926513672\n"
     ]
    }
   ],
   "source": [
    "x = 0\n",
    "for i in range(1,20):\n",
    "    x = x + (0.5)**i\n",
    "    print(x)"
   ]
  },
  {
   "cell_type": "markdown",
   "metadata": {},
   "source": [
    "It seems this sequence converges to the final value of $1$. It keeps getting closer and closer."
   ]
  },
  {
   "cell_type": "markdown",
   "metadata": {},
   "source": [
    "#### Multivariate sequences\n",
    "\n",
    "We can also have sequences with multiple variables, e.g.\n",
    "\n",
    "$$\\begin{align*}x_{i+1}&=2x_i- x_i y_i\\\\ y_{i+1}&=0.5y_i+x_iy_i\\end{align*}$$\n",
    "\n",
    "This can also be written in vector form, assuming $x_{i+1}$ is now a vector, as follows:\n",
    "\n",
    "$$x_{i+1} = f(x_i)$$\n",
    "\n",
    "where $f(x)$ is a function from two variables to two variables.\n"
   ]
  },
  {
   "cell_type": "code",
   "execution_count": 4,
   "metadata": {},
   "outputs": [],
   "source": [
    "def f(x):\n",
    "    xnew = 2*x[0]-x[0]*x[1]\n",
    "    ynew = 0.5*x[1]+x[0]*x[1]\n",
    "    return (xnew, ynew)"
   ]
  },
  {
   "cell_type": "code",
   "execution_count": 5,
   "metadata": {},
   "outputs": [
    {
     "name": "stdout",
     "output_type": "stream",
     "text": [
      "(1.000, 1.500)\n",
      "(0.500, 2.250)\n",
      "(-0.125, 2.250)\n",
      "(0.031, 0.844)\n",
      "(0.036, 0.448)\n",
      "(0.056, 0.240)\n",
      "(0.099, 0.134)\n",
      "(0.184, 0.080)\n",
      "(0.354, 0.055)\n",
      "(0.688, 0.047)\n"
     ]
    }
   ],
   "source": [
    "x = (1,1)\n",
    "for i in range(10):\n",
    "    x = f(x)\n",
    "    print(\"(%.3f, %.3f)\" % x)"
   ]
  },
  {
   "cell_type": "markdown",
   "metadata": {},
   "source": [
    "#### Gradient descent notation\n",
    "\n",
    "Gradient descent is defined as follows:\n",
    "\n",
    "$$w_{i+1}=w_i - \\alpha_i \\nabla f(w_i)$$\n",
    "\n",
    "- We use $w$ for the iterates instead of $x$ because we're changing the model parameters (weights), $w$.\n",
    "- This is a multivariate sequence because $w$ is a vector.\n",
    "- However, you may see this written a variety of different ways.\n",
    "- Sometimes we use $t$ as the index instead of $i$, because it's sort of like \"time\"\n",
    "  - And because $i$ is already used to index training examples.\n",
    "- Sometimes we want to avoid $w_i$ because $w$ is a vector and this is the $i$th $w$-vector, NOT the $i$ element of $w$.\n",
    "- Thus in the video I wrote\n",
    "\n",
    "$$w^{t+1}=w^t-\\alpha^t\\nabla f(w^t)$$\n",
    "\n",
    "- But this too is confusing because it looks like \"$w$ to the power of $t$\"\n",
    "- One could also try\n",
    "\n",
    "$$w^{(t+1)}=w^{(t)}-\\alpha^{(t)}\\nabla f\\left(w^{(t)}\\right)$$\n",
    "\n",
    "which is probably the most clear, but also pretty messy."
   ]
  },
  {
   "cell_type": "markdown",
   "metadata": {},
   "source": [
    "#### Gradient descent as a sequence\n",
    "\n",
    "- Gradient descent defined a sequence of iterates.\n",
    "- It needs an initial value too, which we provide in our code, for example by setting $w=0$ or some random numbers.\n",
    "  - This choice is important, because setting $w=0$ can cause problems as well see later in the course.\n",
    "- Key idea: we choose the sequence carefully so that it _converges_ to a global minimum of $f$.\n",
    "- One can show that this happens under some reasonable conditions, like sufficiently small $\\alpha$, convex and smooth $f$."
   ]
  },
  {
   "cell_type": "markdown",
   "metadata": {},
   "source": [
    "#### Magnitude and direction of the gradient\n",
    "\n",
    "- Note that what we really care about is the direction of the gradient.\n",
    "- However, the magnitude is useful too - when the function is steeper, we take bigger steps even for a fixed $\\alpha$."
   ]
  },
  {
   "cell_type": "code",
   "execution_count": 6,
   "metadata": {},
   "outputs": [
    {
     "data": {
      "image/png": "[encoded data removed]",
      "text/plain": [
       "<Figure size 432x288 with 1 Axes>"
      ]
     },
     "metadata": {
      "needs_background": "light"
     },
     "output_type": "display_data"
    }
   ],
   "source": [
    "grid = np.linspace(-5,5,1000)\n",
    "plt.plot(grid, grid**2);"
   ]
  },
  {
   "cell_type": "markdown",
   "metadata": {},
   "source": [
    "## Break (5 min)"
   ]
  },
  {
   "cell_type": "markdown",
   "metadata": {},
   "source": [
    "## Optimizer syntax (10 min)"
   ]
  },
  {
   "cell_type": "code",
   "execution_count": 7,
   "metadata": {},
   "outputs": [],
   "source": [
    "from scipy.optimize import minimize"
   ]
  },
  {
   "cell_type": "markdown",
   "metadata": {},
   "source": [
    "- This (Python) function can be used to numerically optimize (mathematical) functions.\n",
    "- For example, if we have the mathematical function $f(x)=(x-3)^2$, we know the minimum occurs at $x=3$."
   ]
  },
  {
   "cell_type": "code",
   "execution_count": 8,
   "metadata": {},
   "outputs": [],
   "source": [
    "def f(x):\n",
    "    return (x-3)**2"
   ]
  },
  {
   "cell_type": "code",
   "execution_count": 9,
   "metadata": {},
   "outputs": [
    {
     "data": {
      "text/plain": [
       "array([2.99999998])"
      ]
     },
     "execution_count": 9,
     "metadata": {},
     "output_type": "execute_result"
    }
   ],
   "source": [
    "minimize(f, 0).x"
   ]
  },
  {
   "cell_type": "markdown",
   "metadata": {},
   "source": [
    "Let's unpack the above:\n",
    "\n",
    "- `minimize` is a Python function that takes in _another Python function_.\n",
    "  - That's because it needs to repeatedly call `f` to minimize it. \n",
    "- We also had to pass in a starting guess. \n",
    "  - I just passed in 0. It then made its way from $x=0$ to $x=3$.\n",
    "- Why the `.x` at the end? That's because `minimize` returns a bunch of stuff:"
   ]
  },
  {
   "cell_type": "code",
   "execution_count": 14,
   "metadata": {},
   "outputs": [
    {
     "data": {
      "text/plain": [
       "      fun: 2.5388963550532293e-16\n",
       " hess_inv: array([[0.5]])\n",
       "      jac: array([-1.69666681e-08])\n",
       "  message: 'Optimization terminated successfully.'\n",
       "     nfev: 9\n",
       "      nit: 2\n",
       "     njev: 3\n",
       "   status: 0\n",
       "  success: True\n",
       "        x: array([2.99999998])"
      ]
     },
     "execution_count": 14,
     "metadata": {},
     "output_type": "execute_result"
    }
   ],
   "source": [
    "minimize(f, 0)"
   ]
  },
  {
   "cell_type": "markdown",
   "metadata": {},
   "source": [
    "- We are generally interested in the solution, which is stored as an attribute called `x`. \n",
    "- But note also the `nfev` - that is short for \"number of function evaluations\". \n",
    "  - We can verify that our function was called 9 times by adding a print statement in it:"
   ]
  },
  {
   "cell_type": "code",
   "execution_count": 15,
   "metadata": {},
   "outputs": [],
   "source": [
    "def f(x):\n",
    "    print(\"Someone called this function!\")\n",
    "    return (x-3)**2"
   ]
  },
  {
   "cell_type": "code",
   "execution_count": 16,
   "metadata": {},
   "outputs": [
    {
     "name": "stdout",
     "output_type": "stream",
     "text": [
      "Someone called this function!\n",
      "Someone called this function!\n",
      "Someone called this function!\n",
      "Someone called this function!\n",
      "Someone called this function!\n",
      "Someone called this function!\n",
      "Someone called this function!\n",
      "Someone called this function!\n",
      "Someone called this function!\n"
     ]
    },
    {
     "data": {
      "text/plain": [
       "      fun: 2.5388963550532293e-16\n",
       " hess_inv: array([[0.5]])\n",
       "      jac: array([-1.69666681e-08])\n",
       "  message: 'Optimization terminated successfully.'\n",
       "     nfev: 9\n",
       "      nit: 2\n",
       "     njev: 3\n",
       "   status: 0\n",
       "  success: True\n",
       "        x: array([2.99999998])"
      ]
     },
     "execution_count": 16,
     "metadata": {},
     "output_type": "execute_result"
    }
   ],
   "source": [
    "minimize(f, 0)"
   ]
  },
  {
   "cell_type": "markdown",
   "metadata": {},
   "source": [
    "- Indeed, `minimize` called our function `f` 9 times.\n",
    "- As a reminder, that's why we pass in our function - so that `minimize` can call it with whatever $x$ it wants."
   ]
  },
  {
   "cell_type": "markdown",
   "metadata": {},
   "source": [
    "#### Passing in the gradient\n",
    "\n",
    "- We talked about how having the gradient is very useful - practically essential - in most continuous optimization problems.\n",
    "  - So, how did the code above work without passing in the gradient?\n",
    "  - The answer is that it is approximating the gradient by calling the loss function a bunch of times.\n",
    "  - There used to be a whole lecture on this, but I removed it this year. You can still access the old notes from the course README.\n",
    "- TLDR: you should be passing in the gradient unless there is a very good reason not to.\n",
    "  - With `scipy.optimize.minimize` this is done through the `jac` argument."
   ]
  },
  {
   "cell_type": "code",
   "execution_count": 17,
   "metadata": {},
   "outputs": [],
   "source": [
    "def f(x):\n",
    "    return (x-3)**2"
   ]
  },
  {
   "cell_type": "code",
   "execution_count": 18,
   "metadata": {},
   "outputs": [],
   "source": [
    "def df_dx(x):\n",
    "    return 2*(x-3)"
   ]
  },
  {
   "cell_type": "markdown",
   "metadata": {},
   "source": [
    "- Note that in this case the gradient is just a number (derivative), because we only had one variable."
   ]
  },
  {
   "cell_type": "code",
   "execution_count": 19,
   "metadata": {},
   "outputs": [
    {
     "data": {
      "text/plain": [
       "      fun: 0.0\n",
       " hess_inv: array([[0.5]])\n",
       "      jac: array([0.])\n",
       "  message: 'Optimization terminated successfully.'\n",
       "     nfev: 3\n",
       "      nit: 2\n",
       "     njev: 3\n",
       "   status: 0\n",
       "  success: True\n",
       "        x: array([3.])"
      ]
     },
     "execution_count": 19,
     "metadata": {},
     "output_type": "execute_result"
    }
   ],
   "source": [
    "minimize(f, 0, jac=df_dx)"
   ]
  },
  {
   "cell_type": "markdown",
   "metadata": {},
   "source": [
    "- Now look at `nfev` - it's only 3! \n",
    "- The `njev` tells us how many times the gradient function was called - in this case also 3.\n",
    "- Let's add those `print` statements again."
   ]
  },
  {
   "cell_type": "code",
   "execution_count": 20,
   "metadata": {},
   "outputs": [],
   "source": [
    "def f(x):\n",
    "    print(\"Someone called f\")\n",
    "    return (x-3)**2"
   ]
  },
  {
   "cell_type": "code",
   "execution_count": 21,
   "metadata": {},
   "outputs": [],
   "source": [
    "def df_dx(x):\n",
    "    print(\"Someone called df_dx\")\n",
    "    return 2*(x-3)"
   ]
  },
  {
   "cell_type": "code",
   "execution_count": 22,
   "metadata": {},
   "outputs": [
    {
     "name": "stdout",
     "output_type": "stream",
     "text": [
      "Someone called df_dx\n",
      "Someone called f\n",
      "Someone called f\n",
      "Someone called df_dx\n",
      "Someone called f\n",
      "Someone called df_dx\n"
     ]
    },
    {
     "data": {
      "text/plain": [
       "      fun: 0.0\n",
       " hess_inv: array([[0.5]])\n",
       "      jac: array([0.])\n",
       "  message: 'Optimization terminated successfully.'\n",
       "     nfev: 3\n",
       "      nit: 2\n",
       "     njev: 3\n",
       "   status: 0\n",
       "  success: True\n",
       "        x: array([3.])"
      ]
     },
     "execution_count": 22,
     "metadata": {},
     "output_type": "execute_result"
    }
   ],
   "source": [
    "minimize(f, 0, jac=df_dx)"
   ]
  },
  {
   "cell_type": "markdown",
   "metadata": {},
   "source": [
    "- In general, the speed of the optimize will be dominated by the function evaluations, so we want this number to be small.\n",
    "- In this case, supplying the gradient reduced the total number of calls from 9 to 6.\n",
    "- However, in real problems the reduction will be much more.\n",
    "- This is again covered in the deleted lecture. But in short, the improvement will scale with the number of variables. \n",
    "  - So if you have $1000$ weights it should be around $1000$ times faster!"
   ]
  },
  {
   "cell_type": "markdown",
   "metadata": {},
   "source": [
    "#### Passing in extra args\n",
    "\n",
    "- A very common scenario, like we see in lab, is that we have a loss function that takes multiple arguments.\n",
    "- For example, here is the ordinary least squares linear regression loss, copied from lecture 1:"
   ]
  },
  {
   "cell_type": "code",
   "execution_count": 23,
   "metadata": {},
   "outputs": [],
   "source": [
    "def f(w, X, y):\n",
    "    return np.sum((X@w-y)**2)\n",
    "\n",
    "def f_grad(w, X, y):\n",
    "    return X.T@(X@w) - X.T@y"
   ]
  },
  {
   "cell_type": "markdown",
   "metadata": {},
   "source": [
    "- Here, $w$ are the weights (parameters we are trying to learn), and $X$ and $y$ are the dataset.\n",
    "- Now, remember that optimization routines like `minimize` will call your function.\n",
    "- But they will only pass in one argument, and yet our `f` takes 3 arguments. \n",
    "  - This will cause an error:"
   ]
  },
  {
   "cell_type": "code",
   "execution_count": 24,
   "metadata": {},
   "outputs": [],
   "source": [
    "n, d = 100, 5\n",
    "X = np.random.rand(n,d)\n",
    "y = np.random.choice((-1,+1),size=n)\n",
    "w_init = np.zeros(d)"
   ]
  },
  {
   "cell_type": "code",
   "execution_count": 25,
   "metadata": {},
   "outputs": [
    {
     "ename": "TypeError",
     "evalue": "f_grad() missing 2 required positional arguments: 'X' and 'y'",
     "output_type": "error",
     "traceback": [
      "\u001b[0;31m---------------------------------------------------------------------------\u001b[0m",
      "\u001b[0;31mTypeError\u001b[0m                                 Traceback (most recent call last)",
      "\u001b[0;32m<ipython-input-25-5417325743a3>\u001b[0m in \u001b[0;36m<module>\u001b[0;34m\u001b[0m\n\u001b[0;32m----> 1\u001b[0;31m \u001b[0mminimize\u001b[0m\u001b[0;34m(\u001b[0m\u001b[0mf\u001b[0m\u001b[0;34m,\u001b[0m \u001b[0mw_init\u001b[0m\u001b[0;34m,\u001b[0m \u001b[0mjac\u001b[0m\u001b[0;34m=\u001b[0m\u001b[0mf_grad\u001b[0m\u001b[0;34m)\u001b[0m\u001b[0;34m\u001b[0m\u001b[0;34m\u001b[0m\u001b[0m\n\u001b[0m",
      "\u001b[0;32m~/opt/anaconda3/lib/python3.7/site-packages/scipy/optimize/_minimize.py\u001b[0m in \u001b[0;36mminimize\u001b[0;34m(fun, x0, args, method, jac, hess, hessp, bounds, constraints, tol, callback, options)\u001b[0m\n\u001b[1;32m    592\u001b[0m         \u001b[0;32mreturn\u001b[0m \u001b[0m_minimize_cg\u001b[0m\u001b[0;34m(\u001b[0m\u001b[0mfun\u001b[0m\u001b[0;34m,\u001b[0m \u001b[0mx0\u001b[0m\u001b[0;34m,\u001b[0m \u001b[0margs\u001b[0m\u001b[0;34m,\u001b[0m \u001b[0mjac\u001b[0m\u001b[0;34m,\u001b[0m \u001b[0mcallback\u001b[0m\u001b[0;34m,\u001b[0m \u001b[0;34m**\u001b[0m\u001b[0moptions\u001b[0m\u001b[0;34m)\u001b[0m\u001b[0;34m\u001b[0m\u001b[0;34m\u001b[0m\u001b[0m\n\u001b[1;32m    593\u001b[0m     \u001b[0;32melif\u001b[0m \u001b[0mmeth\u001b[0m \u001b[0;34m==\u001b[0m \u001b[0;34m'bfgs'\u001b[0m\u001b[0;34m:\u001b[0m\u001b[0;34m\u001b[0m\u001b[0;34m\u001b[0m\u001b[0m\n\u001b[0;32m--> 594\u001b[0;31m         \u001b[0;32mreturn\u001b[0m \u001b[0m_minimize_bfgs\u001b[0m\u001b[0;34m(\u001b[0m\u001b[0mfun\u001b[0m\u001b[0;34m,\u001b[0m \u001b[0mx0\u001b[0m\u001b[0;34m,\u001b[0m \u001b[0margs\u001b[0m\u001b[0;34m,\u001b[0m \u001b[0mjac\u001b[0m\u001b[0;34m,\u001b[0m \u001b[0mcallback\u001b[0m\u001b[0;34m,\u001b[0m \u001b[0;34m**\u001b[0m\u001b[0moptions\u001b[0m\u001b[0;34m)\u001b[0m\u001b[0;34m\u001b[0m\u001b[0;34m\u001b[0m\u001b[0m\n\u001b[0m\u001b[1;32m    595\u001b[0m     \u001b[0;32melif\u001b[0m \u001b[0mmeth\u001b[0m \u001b[0;34m==\u001b[0m \u001b[0;34m'newton-cg'\u001b[0m\u001b[0;34m:\u001b[0m\u001b[0;34m\u001b[0m\u001b[0;34m\u001b[0m\u001b[0m\n\u001b[1;32m    596\u001b[0m         return _minimize_newtoncg(fun, x0, args, jac, hess, hessp, callback,\n",
      "\u001b[0;32m~/opt/anaconda3/lib/python3.7/site-packages/scipy/optimize/optimize.py\u001b[0m in \u001b[0;36m_minimize_bfgs\u001b[0;34m(fun, x0, args, jac, callback, gtol, norm, eps, maxiter, disp, return_all, **unknown_options)\u001b[0m\n\u001b[1;32m    994\u001b[0m     \u001b[0;32melse\u001b[0m\u001b[0;34m:\u001b[0m\u001b[0;34m\u001b[0m\u001b[0;34m\u001b[0m\u001b[0m\n\u001b[1;32m    995\u001b[0m         \u001b[0mgrad_calls\u001b[0m\u001b[0;34m,\u001b[0m \u001b[0mmyfprime\u001b[0m \u001b[0;34m=\u001b[0m \u001b[0mwrap_function\u001b[0m\u001b[0;34m(\u001b[0m\u001b[0mfprime\u001b[0m\u001b[0;34m,\u001b[0m \u001b[0margs\u001b[0m\u001b[0;34m)\u001b[0m\u001b[0;34m\u001b[0m\u001b[0;34m\u001b[0m\u001b[0m\n\u001b[0;32m--> 996\u001b[0;31m     \u001b[0mgfk\u001b[0m \u001b[0;34m=\u001b[0m \u001b[0mmyfprime\u001b[0m\u001b[0;34m(\u001b[0m\u001b[0mx0\u001b[0m\u001b[0;34m)\u001b[0m\u001b[0;34m\u001b[0m\u001b[0;34m\u001b[0m\u001b[0m\n\u001b[0m\u001b[1;32m    997\u001b[0m     \u001b[0mk\u001b[0m \u001b[0;34m=\u001b[0m \u001b[0;36m0\u001b[0m\u001b[0;34m\u001b[0m\u001b[0;34m\u001b[0m\u001b[0m\n\u001b[1;32m    998\u001b[0m     \u001b[0mN\u001b[0m \u001b[0;34m=\u001b[0m \u001b[0mlen\u001b[0m\u001b[0;34m(\u001b[0m\u001b[0mx0\u001b[0m\u001b[0;34m)\u001b[0m\u001b[0;34m\u001b[0m\u001b[0;34m\u001b[0m\u001b[0m\n",
      "\u001b[0;32m~/opt/anaconda3/lib/python3.7/site-packages/scipy/optimize/optimize.py\u001b[0m in \u001b[0;36mfunction_wrapper\u001b[0;34m(*wrapper_args)\u001b[0m\n\u001b[1;32m    324\u001b[0m     \u001b[0;32mdef\u001b[0m \u001b[0mfunction_wrapper\u001b[0m\u001b[0;34m(\u001b[0m\u001b[0;34m*\u001b[0m\u001b[0mwrapper_args\u001b[0m\u001b[0;34m)\u001b[0m\u001b[0;34m:\u001b[0m\u001b[0;34m\u001b[0m\u001b[0;34m\u001b[0m\u001b[0m\n\u001b[1;32m    325\u001b[0m         \u001b[0mncalls\u001b[0m\u001b[0;34m[\u001b[0m\u001b[0;36m0\u001b[0m\u001b[0;34m]\u001b[0m \u001b[0;34m+=\u001b[0m \u001b[0;36m1\u001b[0m\u001b[0;34m\u001b[0m\u001b[0;34m\u001b[0m\u001b[0m\n\u001b[0;32m--> 326\u001b[0;31m         \u001b[0;32mreturn\u001b[0m \u001b[0mfunction\u001b[0m\u001b[0;34m(\u001b[0m\u001b[0;34m*\u001b[0m\u001b[0;34m(\u001b[0m\u001b[0mwrapper_args\u001b[0m \u001b[0;34m+\u001b[0m \u001b[0margs\u001b[0m\u001b[0;34m)\u001b[0m\u001b[0;34m)\u001b[0m\u001b[0;34m\u001b[0m\u001b[0;34m\u001b[0m\u001b[0m\n\u001b[0m\u001b[1;32m    327\u001b[0m \u001b[0;34m\u001b[0m\u001b[0m\n\u001b[1;32m    328\u001b[0m     \u001b[0;32mreturn\u001b[0m \u001b[0mncalls\u001b[0m\u001b[0;34m,\u001b[0m \u001b[0mfunction_wrapper\u001b[0m\u001b[0;34m\u001b[0m\u001b[0;34m\u001b[0m\u001b[0m\n",
      "\u001b[0;31mTypeError\u001b[0m: f_grad() missing 2 required positional arguments: 'X' and 'y'"
     ]
    }
   ],
   "source": [
    "minimize(f, w_init, jac=f_grad)"
   ]
  },
  {
   "cell_type": "markdown",
   "metadata": {},
   "source": [
    "- Note that while the `w` argument will change during the optimization, `X` and `y` stay the same.\n",
    "- There are two approaches to dealing with this problem:\n",
    "\n",
    "1. Wrapper functions\n",
    "2. `args` keyword\n",
    "\n",
    "**Approach 1: wrapper functions**"
   ]
  },
  {
   "cell_type": "code",
   "execution_count": 26,
   "metadata": {},
   "outputs": [],
   "source": [
    "def f_wrapper(w):\n",
    "    return f(w, X, y)\n",
    "\n",
    "def f_grad_wrapper(w):\n",
    "    return f_grad(w, X, y)"
   ]
  },
  {
   "cell_type": "markdown",
   "metadata": {},
   "source": [
    "These wrapper functions just call the original functions with the same original `X` and `y`, and the given `w`."
   ]
  },
  {
   "cell_type": "code",
   "execution_count": 27,
   "metadata": {},
   "outputs": [
    {
     "data": {
      "text/plain": [
       "array([-0.17243988,  0.17638165,  0.25346338, -0.73524592,  0.39544609])"
      ]
     },
     "execution_count": 27,
     "metadata": {},
     "output_type": "execute_result"
    }
   ],
   "source": [
    "minimize(f_wrapper, w_init, jac=f_grad_wrapper).x"
   ]
  },
  {
   "cell_type": "markdown",
   "metadata": {},
   "source": [
    "It is customary to use anonymous functions for brevity:"
   ]
  },
  {
   "cell_type": "code",
   "execution_count": 28,
   "metadata": {},
   "outputs": [
    {
     "data": {
      "text/plain": [
       "array([-0.17243988,  0.17638165,  0.25346338, -0.73524592,  0.39544609])"
      ]
     },
     "execution_count": 28,
     "metadata": {},
     "output_type": "execute_result"
    }
   ],
   "source": [
    "minimize(lambda w: f(w,X,y), w_init, jac=lambda w: f_grad(w, X, y)).x"
   ]
  },
  {
   "cell_type": "markdown",
   "metadata": {},
   "source": [
    "This is exactly the same as the named wrapper functions."
   ]
  },
  {
   "cell_type": "markdown",
   "metadata": {},
   "source": [
    "**Approach 2: `args` keyword**\n",
    "\n",
    "The folks at scipy recognized how common this is, and conveniently made an optional argument to `minimize` called `args` for exactly this issue:"
   ]
  },
  {
   "cell_type": "code",
   "execution_count": 29,
   "metadata": {},
   "outputs": [
    {
     "data": {
      "text/plain": [
       "array([-0.17243988,  0.17638165,  0.25346338, -0.73524592,  0.39544609])"
      ]
     },
     "execution_count": 29,
     "metadata": {},
     "output_type": "execute_result"
    }
   ],
   "source": [
    "minimize(f, w_init, jac=f_grad, args=(X,y)).x"
   ]
  },
  {
   "cell_type": "markdown",
   "metadata": {},
   "source": [
    "- This assumes the first argument to your `f` and `f_grad` are the variables being optimized ($w$), and then it passed in the args afterwards, in order. \n",
    "- I think `args` is a rather confusing name. I would have preferred `additional_args` because they come after the main argument, $w$."
   ]
  },
  {
   "cell_type": "markdown",
   "metadata": {},
   "source": [
    "## Logistic regression (25 min)"
   ]
  },
  {
   "cell_type": "markdown",
   "metadata": {},
   "source": [
    "- More than any other topic I've seen, logistic regression spans both statistics and ML.\n",
    "- In DSCI 562, you'll learn about logistic regression as a GLM, with the link function, maximum likelihood, etc.\n",
    "- That formulation is equivalent, but we'll do things differently:\n",
    "  - In ML, we encode $y$ as $+1$ and $-1$, as opposed to $1$ and $0$. This makes our math a bit cleaner.\n",
    "  - We'll also think more from an optimization perspective rather than a likelihood / distributional assumptions perspective. "
   ]
  },
  {
   "cell_type": "markdown",
   "metadata": {},
   "source": [
    "#### Logistic regression: predict\n",
    "\n",
    "In DSCI 571 you talked about how logistic regression makes predictions. To recap:\n",
    "\n",
    "- It is a linear model, which makes it a close cousin of linear regression.\n",
    "  - There's one coefficient per feature, plus an intercept, just like linear regression.\n",
    "  - We combine our features and coefficients with a dot product, that is $w_0 + w_1x_1 + w_2x_2 + \\ldots + w_dx_d$.\n",
    "  - We'll often ignore the intercept because of the \"column of ones\" trick discussed in DSCI 561 and/or 573.\n",
    "  - With linear regression, we can write the predictions very succinctly as $Xw$. This is matrix multiplication. \n",
    "  - We take each row of $X$ and dot-product it with $w$. So the result is a vector of all our predictions.\n",
    "  - We'll do something similar here.\n",
    "- It is a classification algorithm. Since it's linear and a classifier, we call it a linear classifier.\n",
    "  - The decision boundary is a hyperplane dividng the feature space (aka data space) in half.\n",
    "  - You can think of the coefficients as controlling the orientation of the boundary.\n",
    "- We generally use _regularization_ with logistic regression. \n",
    "  - This will be covered later in DSCI 573.\n",
    "  - Next year we'll have DSCI 573 earlier to solve this sort of issue."
   ]
  },
  {
   "cell_type": "markdown",
   "metadata": {},
   "source": [
    "#### Logistic regression: probabilities\n",
    "\n",
    "- When you take $w^Tx$, this is what I call the \"raw model output\".\n",
    "- For linear regression this would have been the prediction.\n",
    "- For logistic regression, you check the **sign** of this value.\n",
    "  - If positive, predict $+1$; if negative, predict $-1$.\n",
    "  - I call these \"hard predictions\".\n",
    "- You can also have \"soft predictions\", aka predicted probabilities. \n",
    "  - To convert the raw model output into probabilities, instead of taking the sign, we apply the sigmoid.\n"
   ]
  },
  {
   "cell_type": "code",
   "execution_count": 32,
   "metadata": {},
   "outputs": [
    {
     "data": {
      "image/png": "[encoded data removed]",
      "text/plain": [
       "<Figure size 432x288 with 1 Axes>"
      ]
     },
     "metadata": {
      "needs_background": "light"
     },
     "output_type": "display_data"
    }
   ],
   "source": [
    "raw_model_output = np.linspace(-8,8,1000)\n",
    "sigmoid = lambda x: 1/(1+np.exp(-x))\n",
    "plt.plot(raw_model_output, sigmoid(raw_model_output));\n",
    "plt.plot([0,0],[0,0.5], '--k')\n",
    "plt.plot([-8,0],[0.5,0.5], '--k')\n",
    "plt.xlabel(\"raw model output, $w^Tx$\");\n",
    "plt.ylabel(\"predicted probability\");\n",
    "plt.title(\"the sigmoid function\");"
   ]
  },
  {
   "cell_type": "markdown",
   "metadata": {},
   "source": [
    "- The sigmoid function \"squashes\" the raw model output from any number to the range $[0,1]$.\n",
    "- Then we can interpret the output as probabilities.\n",
    "- Recall our hard predictions that check the sign of $w^Tx$, or, in other words, whether or not it is $> 0$.\n",
    "  - The threshold $w^Tx=0$ corresponds to $p=0.5$. \n",
    "  - In other words, if our predicted probability is above $0.5$ then our hard prediction is $+1$.\n",
    "  - This makes intuitive sense."
   ]
  },
  {
   "cell_type": "markdown",
   "metadata": {},
   "source": [
    "#### Logistic regression loss\n",
    "\n",
    "- So now we've covered the `predict` and `predict_proba` side of things.\n",
    "- Next we need to talk about `fit`, i.e. the loss.\n",
    "- I'll leave the maximum likelihood interpretation of the loss to DSCI 562. Instead, here let's take a different perspective. \n",
    "- The squared error $f(w)=\\sum_{i=1}^n (w^Tx_i-y_i)^2$ doesn't make sense here.\n",
    "  - For example, if $w^Tx_i$ is 1000 and $y_i$ is $+1$ that would be a huge loss, but actually the model is behaving correctly, because $1000$ is positive and so it will predict $+1$.\n",
    "  - Thus, we need a new loss that encourages $w^Tx_i$ to be positive when $y_i$ is $+1$ and encourages $w^Tx_i$ to be negative when $y_i$ is $-1$.\n",
    "- Key idea: multiply $y_iw^Tx_i$. We always want this quantity to be positive! Why?\n",
    "  - If $y_i$ and $w^Tx_i$ have the _same sign_, it will be positive.\n",
    "  - If they have _oppositve signs_, it will be negative.\n",
    "- So, we want a loss that's sort of like $-\\sum_{i=1}^n y_iw^Tx_i$. By making this small, we encourage the model to make correct predictions.  \n",
    "  - The above loss does not quite work out (I believe it has no minimum in most cases), but we do something similar instead:\n",
    "  \n",
    "$$f(w)=\\sum_{i=1}^n\\log\\left(1+\\exp(-y_iw^Tx_i)\\right)$$\n",
    "\n",
    "- The key idea here is that this function gets smaller as $y_iw^Tx_i$ gets larger, so it encourages correct classification. Here's the function:"
   ]
  },
  {
   "cell_type": "code",
   "execution_count": 33,
   "metadata": {},
   "outputs": [
    {
     "data": {
      "image/png": "[encoded data removed]",
      "text/plain": [
       "<Figure size 432x288 with 1 Axes>"
      ]
     },
     "metadata": {
      "needs_background": "light"
     },
     "output_type": "display_data"
    }
   ],
   "source": [
    "grid = np.linspace(-10,10,1000)\n",
    "fun = lambda z: np.log(1+np.exp(-z))\n",
    "plt.plot(grid, fun(grid));\n",
    "plt.xlabel(\"$y_iw^Tx_i$\");\n",
    "plt.ylabel(\"loss for one training example\")\n",
    "plt.title(\"Logistic loss transformation\");"
   ]
  },
  {
   "cell_type": "markdown",
   "metadata": {},
   "source": [
    "I think a common misconception is confusing this function, $\\log(1+\\exp(-z))$, with the sigmoid function from earlier, $1/(1+\\exp(-z))$. They look very similar and both are used in logistic regression but they are not the same function!!! And they have very different purposes. \n",
    "\n",
    "- $\\log(1+\\exp(-z))$ maps $y_iw^Tx_i$ to a positive number, which is the loss contribution from one training example. This is important in `fit`.\n",
    "- $1/(1+\\exp(-z))$ maps $w^Tx_i$ to a number in $[0,1]$, to be interpreted as a probability. This is important in `predict_proba`. (But comes into the statistics derivation of the loss, which adds extra confusion.) "
   ]
  },
  {
   "cell_type": "markdown",
   "metadata": {},
   "source": [
    "#### Error vs. loss\n",
    "\n",
    "- With earlier methods like random forests, we just talked about accuracy (or error rate, which is 1 minus accuracy).\n",
    "- With logistic regression, there are two separate metrics we need to keep in mind.\n",
    "- scikit-learn's `score` returns the accuracy. "
   ]
  },
  {
   "cell_type": "code",
   "execution_count": 34,
   "metadata": {},
   "outputs": [
    {
     "name": "stderr",
     "output_type": "stream",
     "text": [
      "/Users/mgelbart/opt/anaconda3/lib/python3.7/site-packages/sklearn/linear_model/logistic.py:432: FutureWarning: Default solver will be changed to 'lbfgs' in 0.22. Specify a solver to silence this warning.\n",
      "  FutureWarning)\n"
     ]
    }
   ],
   "source": [
    "lr = LogisticRegression(fit_intercept=False)\n",
    "lr.fit(X, y); # fit on random data from earlier"
   ]
  },
  {
   "cell_type": "code",
   "execution_count": 35,
   "metadata": {},
   "outputs": [
    {
     "data": {
      "text/plain": [
       "0.56"
      ]
     },
     "execution_count": 35,
     "metadata": {},
     "output_type": "execute_result"
    }
   ],
   "source": [
    "lr.score(X,y)"
   ]
  },
  {
   "cell_type": "markdown",
   "metadata": {},
   "source": [
    "- So we got this accuracy, and the error is 1 minus this. \n",
    "- But the loss is different. Here's the code from lab 1:"
   ]
  },
  {
   "cell_type": "code",
   "execution_count": 36,
   "metadata": {},
   "outputs": [],
   "source": [
    "def loss_lr(w, X, y):\n",
    "    return np.sum(np.log(1 + np.exp(-y*(X@w))))"
   ]
  },
  {
   "cell_type": "code",
   "execution_count": 37,
   "metadata": {},
   "outputs": [
    {
     "data": {
      "text/plain": [
       "66.30090359049787"
      ]
     },
     "execution_count": 37,
     "metadata": {},
     "output_type": "execute_result"
    }
   ],
   "source": [
    "loss_lr(np.squeeze(lr.coef_), X, y)"
   ]
  },
  {
   "cell_type": "code",
   "execution_count": 38,
   "metadata": {},
   "outputs": [],
   "source": [
    "from sklearn.metrics import log_loss"
   ]
  },
  {
   "cell_type": "code",
   "execution_count": 39,
   "metadata": {},
   "outputs": [
    {
     "data": {
      "text/plain": [
       "66.30090359049787"
      ]
     },
     "execution_count": 39,
     "metadata": {},
     "output_type": "execute_result"
    }
   ],
   "source": [
    "log_loss(y, lr.predict_proba(X), normalize=False)"
   ]
  },
  {
   "cell_type": "markdown",
   "metadata": {},
   "source": [
    "Bam - we get the same result."
   ]
  },
  {
   "cell_type": "markdown",
   "metadata": {},
   "source": [
    "- So, why not use the error rate as the loss, and directly maximize accuracy?\n",
    "- Because it's not a smooth function, which makes it hard to optimize.\n",
    "- This is a bit beyond the scope of the course."
   ]
  },
  {
   "cell_type": "markdown",
   "metadata": {},
   "source": [
    "## (optional) More on data space / parameter space\n",
    "\n",
    "- In the gradient descent video, the data space was 2D (1D linear regression) and the parameter space was 2D (slope and intercept).\n",
    "- This doesn't have to be the case at all. \n",
    "\n",
    "Example 1: no intercept term\n",
    "\n",
    "- Here, the data space is the same as in the video, but the parameter space is only 1D"
   ]
  },
  {
   "cell_type": "code",
   "execution_count": 40,
   "metadata": {},
   "outputs": [
    {
     "data": {
      "image/png": "[encoded data removed]",
      "text/plain": [
       "<Figure size 432x288 with 2 Axes>"
      ]
     },
     "metadata": {
      "needs_background": "light"
     },
     "output_type": "display_data"
    }
   ],
   "source": [
    "# Generate data\n",
    "n = 20\n",
    "X = np.random.rand(n,1)\n",
    "y = np.random.rand(n,1) + X\n",
    "\n",
    "# Compute loss\n",
    "w_grid = np.linspace(-3,5,100);\n",
    "pred = X@w_grid[None]\n",
    "loss_grid = np.sum((pred-y)**2,axis=0)\n",
    "\n",
    "w_best = w_grid[np.argmin(loss_grid)]\n",
    "\n",
    "# Plot data space\n",
    "plt.subplot(1,2,1)\n",
    "plt.scatter(X,y);\n",
    "plt.xlabel('x');\n",
    "plt.ylabel('y');\n",
    "plt.title('Data space')\n",
    "\n",
    "# Plot best line\n",
    "x_grid = np.linspace(np.min(X),np.max(X),100)[:,None]\n",
    "plt.plot(x_grid, x_grid*w_best[None], 'red')\n",
    "\n",
    "\n",
    "plt.subplot(1,2,2)\n",
    "plt.plot(w_grid, loss_grid);\n",
    "plt.xlabel('w');\n",
    "plt.ylabel('loss');\n",
    "plt.title('Parameter space')\n",
    "plt.tight_layout();"
   ]
  },
  {
   "cell_type": "markdown",
   "metadata": {},
   "source": [
    "Example 2: polynomial regression or interaction terms\n",
    "\n",
    "- Here, we have a coefficient for each term, but the data space stays fixed.\n",
    "- We can't really plot the parameters space, because it's high-dimensional."
   ]
  }
 ],
 "metadata": {
  "anaconda-cloud": {},
  "kernelspec": {
   "display_name": "Python 3",
   "language": "python",
   "name": "python3"
  },
  "language_info": {
   "codemirror_mode": {
    "name": "ipython",
    "version": 3
   },
   "file_extension": ".py",
   "mimetype": "text/x-python",
   "name": "python",
   "nbconvert_exporter": "python",
   "pygments_lexer": "ipython3",
   "version": "3.7.3"
  }
 },
 "nbformat": 4,
 "nbformat_minor": 4
}
