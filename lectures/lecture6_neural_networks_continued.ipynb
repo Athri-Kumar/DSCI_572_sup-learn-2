{
 "cells": [
  {
   "cell_type": "markdown",
   "metadata": {},
   "source": [
    "# DSCI 572 \"lecture\" 6"
   ]
  },
  {
   "cell_type": "markdown",
   "metadata": {},
   "source": [
    "## The plan\n",
    "\n",
    "- Quiz 1 debrief (30 min)\n",
    "- Classification / softmax (15 min)\n",
    "- Loss vs. accuracy (5 min)\n",
    "- Break (5 min)\n",
    "- Optimization and early stopping (10 min)\n",
    "- Hyperparameters (5 min)\n",
    "- Convolutions (10 min)\n",
    "- ~~Convolution T/F questions (15 min)~~"
   ]
  },
  {
   "cell_type": "code",
   "execution_count": 1,
   "metadata": {},
   "outputs": [],
   "source": [
    "import numpy as np\n",
    "import matplotlib.pyplot as plt\n",
    "%matplotlib inline\n",
    "\n",
    "import tensorflow as tf\n",
    "from tensorflow.keras.models import Sequential\n",
    "from tensorflow.keras.layers import Dense\n",
    "from tensorflow.keras import utils\n",
    "\n",
    "from sklearn import datasets\n",
    "from sklearn.model_selection import train_test_split"
   ]
  },
  {
   "cell_type": "code",
   "execution_count": 2,
   "metadata": {},
   "outputs": [],
   "source": [
    "plt.rcParams['font.size'] = 16"
   ]
  },
  {
   "cell_type": "markdown",
   "metadata": {},
   "source": [
    "## Quick vocabulary clarification: layers\n",
    "\n",
    "- The number of layers != the number of _hidden_ layers.\n",
    "- Back to this picture;\n",
    "\n",
    "![](https://upload.wikimedia.org/wikipedia/commons/4/46/Colored_neural_network.svg)\n",
    "\n",
    "This network (and the one in lab 3 Exercise 0) has:\n",
    "\n",
    "- 1 hidden layer\n",
    "- 2 layers (2 transformations, 2 sets of weights)\n",
    "\n",
    "In general, the number of layers is always one more than the number of hidden layers."
   ]
  },
  {
   "cell_type": "markdown",
   "metadata": {},
   "source": [
    "## Quiz 1 debrief (15 min)\n",
    "\n",
    "(Go to Canvas)"
   ]
  },
  {
   "cell_type": "markdown",
   "metadata": {},
   "source": [
    "## Classification / softmax (15 min)"
   ]
  },
  {
   "cell_type": "markdown",
   "metadata": {},
   "source": [
    "- To use a neural net for classification, we take advantage of the fact that the output doesn't have to be 1-dimensional ($k>1$)\n",
    "- For example, with the digits dataset there are $10$ classes, so we set the size of the last layer to $c=10$\n",
    "- The output will be the probabilities for the 10 classes. \n",
    "- For the last layer, we use a special activation function called the **softmax**:\n",
    "\n",
    "$$h(z_i) = \\frac{\\exp(z_i)}{\\sum_{k=1}^c \\exp(z_j)}$$\n",
    "\n",
    "where $z_i$ is the $i$th element of $z$, and $c$ is the number of classes."
   ]
  },
  {
   "cell_type": "markdown",
   "metadata": {},
   "source": [
    "Softmax intuition:\n",
    "\n",
    "- Probabilities need to be non-negative (hence exp)\n",
    "- Probabilities must sum to 1 (hence dividng by the sum)\n",
    "\n",
    "Actually:\n",
    "\n",
    "- This is not the \"real\" intuition but it gets the job done. \n",
    "- It's actually the \"soft max\" because it's like the max function but \"soft\"\n",
    "\n",
    "Optional note:\n",
    "\n",
    "- This function is the analog of the sigmoid in logistic regression.\n",
    "- If you think of $z=[w^Tx, 0]$ then you get $h(z)=\\left[\\frac{\\exp(w^Tx)}{\\exp(w^Tx)+1},\\; \\frac{1}{\\exp(w^Tx)+1}\\right]$, or equivalently $\\left[\\frac{1}{1+\\exp(-w^Tx)},\\; \\frac{1}{\\exp(w^Tx)+1}\\right]$ which are indeed the probability you get from the sigmoid, and 1 minus the probability you get from the sigmoid.  "
   ]
  },
  {
   "cell_type": "code",
   "execution_count": 3,
   "metadata": {},
   "outputs": [],
   "source": [
    "h_softmax = lambda z: np.exp(z)/np.sum(np.exp(z))\n",
    "\n",
    "z = [-5, -1, 3, 7, 5]"
   ]
  },
  {
   "cell_type": "code",
   "execution_count": 4,
   "metadata": {},
   "outputs": [
    {
     "data": {
      "text/plain": [
       "7"
      ]
     },
     "execution_count": 4,
     "metadata": {},
     "output_type": "execute_result"
    }
   ],
   "source": [
    "np.max(z)"
   ]
  },
  {
   "cell_type": "code",
   "execution_count": 5,
   "metadata": {},
   "outputs": [
    {
     "data": {
      "text/plain": [
       "array([0., 0., 0., 1., 0.])"
      ]
     },
     "execution_count": 5,
     "metadata": {},
     "output_type": "execute_result"
    }
   ],
   "source": [
    "(z == np.max(z)).astype(float)"
   ]
  },
  {
   "cell_type": "code",
   "execution_count": 6,
   "metadata": {},
   "outputs": [
    {
     "data": {
      "text/plain": [
       "array([5.32430861e-06, 2.90697400e-04, 1.58715403e-02, 8.66556737e-01,\n",
       "       1.17275701e-01])"
      ]
     },
     "execution_count": 6,
     "metadata": {},
     "output_type": "execute_result"
    }
   ],
   "source": [
    "h_softmax(z)"
   ]
  },
  {
   "cell_type": "code",
   "execution_count": 7,
   "metadata": {},
   "outputs": [
    {
     "data": {
      "text/plain": [
       "1.0"
      ]
     },
     "execution_count": 7,
     "metadata": {},
     "output_type": "execute_result"
    }
   ],
   "source": [
    "np.sum(h_softmax(z)) # should be 1"
   ]
  },
  {
   "cell_type": "code",
   "execution_count": 8,
   "metadata": {},
   "outputs": [],
   "source": [
    "z = [-5, -1, 3, 100, 5]"
   ]
  },
  {
   "cell_type": "code",
   "execution_count": 9,
   "metadata": {},
   "outputs": [
    {
     "data": {
      "text/plain": [
       "array([2.50656748e-46, 1.36853947e-44, 7.47197234e-43, 1.00000000e+00,\n",
       "       5.52108228e-42])"
      ]
     },
     "execution_count": 9,
     "metadata": {},
     "output_type": "execute_result"
    }
   ],
   "source": [
    "h_softmax(z)"
   ]
  },
  {
   "cell_type": "markdown",
   "metadata": {},
   "source": [
    "BTW, remember Lab 2 Exercise 5? You had to deal with numerical issues using\n",
    "\n",
    "$$\\begin{align}\\log \\displaystyle\\sum_{k=1}^c \\exp(z_k)=a+ \\log \\displaystyle\\sum_{k=1}^c \\exp(z_k-a)\\end{align}$$\n",
    "\n",
    "- This comes from the softmax loss, aka the categorical cross-entropy loss.\n",
    "- The loss tries to make the probability of the correct class large.\n",
    "- Which forces the rest to be small since they must add to 1.\n",
    "- It's a generalization of the logistic loss to multi-class.\n",
    "- It's the exact same loss as multinomial (aka softmax) logistic regression.\n",
    "- (Optional) the full loss is\n",
    "\n",
    "$$f(W)=-w_{y_i}^Tx_i+\\log \\displaystyle\\sum_{k=1}^c \\exp(w^T_kx_i)$$"
   ]
  },
  {
   "cell_type": "code",
   "execution_count": 10,
   "metadata": {},
   "outputs": [],
   "source": [
    "digits = datasets.load_digits()\n",
    "X = digits['data']/255\n",
    "y = digits['target']"
   ]
  },
  {
   "cell_type": "code",
   "execution_count": 11,
   "metadata": {},
   "outputs": [
    {
     "data": {
      "text/plain": [
       "(1797,)"
      ]
     },
     "execution_count": 11,
     "metadata": {},
     "output_type": "execute_result"
    }
   ],
   "source": [
    "y.shape"
   ]
  },
  {
   "cell_type": "markdown",
   "metadata": {},
   "source": [
    "It seems this is no longer necessary, but that's OK:"
   ]
  },
  {
   "cell_type": "code",
   "execution_count": 12,
   "metadata": {},
   "outputs": [],
   "source": [
    "Y = utils.to_categorical(y, 10) # make it 1-hot"
   ]
  },
  {
   "cell_type": "code",
   "execution_count": 13,
   "metadata": {},
   "outputs": [
    {
     "data": {
      "text/plain": [
       "(1797, 10)"
      ]
     },
     "execution_count": 13,
     "metadata": {},
     "output_type": "execute_result"
    }
   ],
   "source": [
    "Y.shape"
   ]
  },
  {
   "cell_type": "code",
   "execution_count": 14,
   "metadata": {
    "scrolled": true
   },
   "outputs": [
    {
     "name": "stdout",
     "output_type": "stream",
     "text": [
      "[[1. 0. 0. ... 0. 0. 0.]\n",
      " [0. 1. 0. ... 0. 0. 0.]\n",
      " [0. 0. 1. ... 0. 0. 0.]\n",
      " ...\n",
      " [0. 0. 0. ... 0. 1. 0.]\n",
      " [0. 0. 0. ... 0. 0. 1.]\n",
      " [0. 0. 0. ... 0. 1. 0.]]\n"
     ]
    }
   ],
   "source": [
    "print(Y)"
   ]
  },
  {
   "cell_type": "markdown",
   "metadata": {},
   "source": [
    "Above: these are the targets, right? We need 10 targets since we have 10 outputs."
   ]
  },
  {
   "cell_type": "code",
   "execution_count": 15,
   "metadata": {},
   "outputs": [],
   "source": [
    "X_train, X_test, Y_train, Y_test = train_test_split(X, Y, test_size=0.33, random_state=42)"
   ]
  },
  {
   "cell_type": "code",
   "execution_count": 17,
   "metadata": {},
   "outputs": [],
   "source": [
    "model = Sequential()\n",
    "model.add(Dense(500, input_dim=X.shape[1], activation='relu'))\n",
    "model.add(Dense(500, activation='relu'))\n",
    "model.add(Dense(10, activation='softmax'))"
   ]
  },
  {
   "cell_type": "markdown",
   "metadata": {},
   "source": [
    "Above: last layer size is 10, softmax activation."
   ]
  },
  {
   "cell_type": "code",
   "execution_count": 18,
   "metadata": {},
   "outputs": [],
   "source": [
    "model.compile(loss='categorical_crossentropy', optimizer='adam', \n",
    "              metrics=['accuracy'])"
   ]
  },
  {
   "cell_type": "code",
   "execution_count": 19,
   "metadata": {
    "scrolled": true
   },
   "outputs": [],
   "source": [
    "model.fit(X_train, Y_train, epochs=10, verbose=0);"
   ]
  },
  {
   "cell_type": "code",
   "execution_count": 20,
   "metadata": {},
   "outputs": [
    {
     "data": {
      "text/plain": [
       "array([7.4031561e-07, 9.8762393e-01, 2.6562449e-07, 3.0734154e-05,\n",
       "       7.2481926e-03, 3.9377292e-06, 5.8094578e-05, 2.2679913e-05,\n",
       "       4.4167098e-03, 5.9475395e-04], dtype=float32)"
      ]
     },
     "execution_count": 20,
     "metadata": {},
     "output_type": "execute_result"
    }
   ],
   "source": [
    "probs = model.predict(X_train)[0]\n",
    "probs"
   ]
  },
  {
   "cell_type": "code",
   "execution_count": 21,
   "metadata": {},
   "outputs": [
    {
     "data": {
      "text/plain": [
       "1.0"
      ]
     },
     "execution_count": 21,
     "metadata": {},
     "output_type": "execute_result"
    }
   ],
   "source": [
    "np.sum(probs)"
   ]
  },
  {
   "cell_type": "code",
   "execution_count": 22,
   "metadata": {},
   "outputs": [
    {
     "data": {
      "text/plain": [
       "1"
      ]
     },
     "execution_count": 22,
     "metadata": {},
     "output_type": "execute_result"
    }
   ],
   "source": [
    "np.argmax(probs)"
   ]
  },
  {
   "cell_type": "code",
   "execution_count": 23,
   "metadata": {},
   "outputs": [
    {
     "data": {
      "text/plain": [
       "array([0., 1., 0., 0., 0., 0., 0., 0., 0., 0.], dtype=float32)"
      ]
     },
     "execution_count": 23,
     "metadata": {},
     "output_type": "execute_result"
    }
   ],
   "source": [
    "Y_train[0]"
   ]
  },
  {
   "cell_type": "code",
   "execution_count": 24,
   "metadata": {},
   "outputs": [
    {
     "name": "stdout",
     "output_type": "stream",
     "text": [
      "Training     loss: 0.14\n",
      "Test         loss: 0.20\n",
      "\n",
      "Training accuracy: 0.96\n",
      "Test     accuracy: 0.94\n",
      "\n"
     ]
    }
   ],
   "source": [
    "training_scores = model.evaluate(X_train, Y_train, verbose=0)\n",
    "test_scores = model.evaluate(X_test, Y_test, verbose=0)\n",
    "\n",
    "for i in range(len(training_scores)):\n",
    "    print(\"Training %8s: %.2f\" % (model.metrics_names[i], training_scores[i]))\n",
    "    print(\"Test     %8s: %.2f\" % (model.metrics_names[i], test_scores[i]))\n",
    "    print()"
   ]
  },
  {
   "cell_type": "markdown",
   "metadata": {},
   "source": [
    "Above: `training_loss` contains the loss and also the accuracy, since we asked for it above when we set `metrics=['accuracy']`."
   ]
  },
  {
   "cell_type": "markdown",
   "metadata": {},
   "source": [
    "#### Loss vs. accuracy (5 min)\n",
    "\n",
    "- Question: What's the difference betwen loss and accuracy (or error)? Why do we need both?\n",
    "- Answer: \n",
    "  - Accuracy is the one humans can relate to: what fraction did I classify correctly?\n",
    "  - However, we cannot directly maxmize accuracy / minimize error because it is not differentiable:\n",
    "    - If we change the weights a tiny amount, accuracy will not change!\n",
    "    - Fundamentally, accuracy is an integer -> that is the problem.\n",
    "  - The loss is a differentiable _proxy for error_ that we are directly minimizing.\n",
    "  - When we say \"take the gradient\", it's the gradient of the loss function.\n",
    "  - _While accuracy only depends on the hard predictions, the loss is a function of the predicted probabilities._\n",
    "  - Now if we change the weights a tiny amount, the predicted probabilities change a tiny amount, so the loss changes a tiny amount -> differentiable.\n",
    "- We actually had this same distinction with logistic regression.\n",
    "- But not with linear regression! In that case there is no integer \"accuracy\" so the squared error can play both roles.\n",
    " "
   ]
  },
  {
   "cell_type": "markdown",
   "metadata": {},
   "source": [
    "## Break (5 min)"
   ]
  },
  {
   "cell_type": "markdown",
   "metadata": {},
   "source": [
    "## Optimization and early stopping (10 min)"
   ]
  },
  {
   "cell_type": "markdown",
   "metadata": {},
   "source": [
    "- Things get weird when we start mixing the fundamental tradeoff and optimization.\n",
    "- Taking a step back to the 3 decisions:"
   ]
  },
  {
   "cell_type": "markdown",
   "metadata": {},
   "source": [
    "1. Pick your model\n",
    "2. Pick your loss\n",
    "3. Pick your optimizer"
   ]
  },
  {
   "cell_type": "markdown",
   "metadata": {},
   "source": [
    "Example:\n",
    "\n",
    "1. Neural network with one hidden layer of size 10\n",
    "2. Squared error\n",
    "3. Stochastic gradient\n",
    "\n",
    "It seems like the fundamental tradeoff is mainly a matter of (1) but... the plot thickens..."
   ]
  },
  {
   "cell_type": "markdown",
   "metadata": {},
   "source": [
    "\n",
    "Let's modify the call to `fit` in two ways:\n",
    "\n",
    "1. Let's store the output of `fit`, which is a \"history\" object.\n",
    "2. Let's provide the validation set to `fit`."
   ]
  },
  {
   "cell_type": "code",
   "execution_count": 32,
   "metadata": {},
   "outputs": [],
   "source": [
    "model = Sequential()\n",
    "model.add(Dense(500, input_dim=X.shape[1], activation='relu'))\n",
    "model.add(Dense(500, activation='relu'))\n",
    "model.add(Dense(10, activation='softmax'))\n",
    "model.compile(loss='categorical_crossentropy', optimizer='adam', metrics=['accuracy'])\n",
    "history = model.fit(X_train, Y_train, epochs=40, verbose=0, validation_data=(X_test, Y_test))"
   ]
  },
  {
   "cell_type": "markdown",
   "metadata": {},
   "source": [
    "- If this makes you uncomfortable, that's good. Are we violating the golden rule??\n",
    "  - Hopefully not, we'll have to trust the creators of tensorflow."
   ]
  },
  {
   "cell_type": "code",
   "execution_count": 33,
   "metadata": {},
   "outputs": [
    {
     "data": {
      "image/png": "[encoded data removed]",
      "text/plain": [
       "<Figure size 432x288 with 1 Axes>"
      ]
     },
     "metadata": {
      "needs_background": "light"
     },
     "output_type": "display_data"
    }
   ],
   "source": [
    "plt.plot(history.history['loss'])\n",
    "plt.plot(history.history['val_loss'])\n",
    "plt.ylabel('loss')\n",
    "plt.xlabel('epochs')\n",
    "plt.legend(['train', 'validation']);"
   ]
  },
  {
   "cell_type": "markdown",
   "metadata": {},
   "source": [
    "- Important idea: \n",
    "  - Opimizing the model more causes training loss to keep going down.\n",
    "  - But it may cause test error to go up.\n",
    "  - Maybe we don't want to do a good job of our optimization?!?\n",
    "- **Early stopping**: if the model starts to overfit, stop the optimization.\n",
    "- We are letting Step 3 (pick your optimizer) influence the fundamental tradeoff!\n",
    "- This makes everything much more foggy in our minds - but can still be useful.\n",
    "- We actually saw some of this in lab 2 with `LogisticRegression` vs. `SGDClassifier`. "
   ]
  },
  {
   "cell_type": "markdown",
   "metadata": {},
   "source": [
    "Note: it is easy to confuse the above type of plot with this type of plot, below:"
   ]
  },
  {
   "cell_type": "code",
   "execution_count": 27,
   "metadata": {},
   "outputs": [
    {
     "name": "stdout",
     "output_type": "stream",
     "text": [
      "10 25 50 100 200 300 500 750 1000 "
     ]
    }
   ],
   "source": [
    "train_errs = list()\n",
    "test_errs = list()\n",
    "layer_sizes = [10,25,50,100,200,300,500,750,1000]\n",
    "for layer_size in layer_sizes:\n",
    "    print(layer_size, end=\" \")\n",
    "    model = Sequential()\n",
    "    model.add(Dense(layer_size, input_dim=X.shape[1], activation='relu'))\n",
    "    model.add(Dense(10, activation='softmax'))\n",
    "    model.compile(loss='categorical_crossentropy', optimizer='adam', metrics=['accuracy'])\n",
    "    history2 = model.fit(X_train, Y_train, epochs=10, verbose=0)\n",
    "    \n",
    "    train_errs.append( 1 - model.evaluate(X_train, Y_train, verbose=0)[1] )\n",
    "    test_errs.append(  1 - model.evaluate(X_test,  Y_test,  verbose=0)[1] )    "
   ]
  },
  {
   "cell_type": "code",
   "execution_count": 28,
   "metadata": {},
   "outputs": [
    {
     "data": {
      "image/png": "[encoded data removed]",
      "text/plain": [
       "<Figure size 432x288 with 1 Axes>"
      ]
     },
     "metadata": {
      "needs_background": "light"
     },
     "output_type": "display_data"
    }
   ],
   "source": [
    "plt.plot(layer_sizes, train_errs, label=\"train\")\n",
    "plt.plot(layer_sizes, test_errs, label=\"test\")\n",
    "plt.legend()\n",
    "plt.xlabel(\"hidden layer size\");\n",
    "plt.ylabel(\"error\");"
   ]
  },
  {
   "cell_type": "markdown",
   "metadata": {},
   "source": [
    "- These figures look similar but are plotting completely different things!!!\n",
    "- Let's take a minute to digest."
   ]
  },
  {
   "cell_type": "markdown",
   "metadata": {},
   "source": [
    "## Hyperparameters (5 min)\n"
   ]
  },
  {
   "cell_type": "markdown",
   "metadata": {},
   "source": [
    "#### Hyperparameters\n",
    "\n",
    "- Neural networks have potentially a lot of hyperparameters.\n",
    "- The first choice is the number of layers. Then...\n",
    "- Each layer can have its own set of hyperparameters (or this could be the same across layers), such as\n",
    "  - Dimensionality\n",
    "  - Activation function\n",
    "  - Regularization; more on this next class\n",
    "  - ...\n",
    "- Then we also have the optimization hyperparameters\n",
    "  - Initialization\n",
    "  - Learning rate(s)\n",
    "  - Momentum\n",
    "  - ...\n",
    "- As usual, the hyperparameters control the fundamental tradeoff of ML\n",
    "  - With no hidden layers, we have linear/logistic regression.\n",
    "  - More features --> more weights --> lower training error. \n",
    "  - Now we can expand the model complexity by adding layers, without collecting more features."
   ]
  },
  {
   "cell_type": "markdown",
   "metadata": {},
   "source": [
    "- You've covered regularization in DSCI 573.\n",
    "- Neural nets use some standard regularization and some funny ones\n",
    "- _Weight decay_: just a name for L2-regularization on the weights\n",
    "- [Batch normalization](https://arxiv.org/abs/1502.03167) normalizes values during training\n",
    "- Dropout: randomly delete (set to 0) your activations\n",
    "  - this sounds crazy but there's a lot of intuition here\n",
    "  - preventing co-adaptation\n",
    "  - has an interpretation as ensembling models with different architectures"
   ]
  },
  {
   "cell_type": "markdown",
   "metadata": {},
   "source": [
    "## (optional) Backpropagation\n",
    "\n",
    "\n",
    "The squared loss (a not-uncommon choice for regression) is\n",
    "\n",
    "$$f\\left(\\{W^{(l)}\\}\\right)= \\sum_{i=1}^n \\left(y_i - \\hat{y}_i\\right)^2  $$\n",
    "\n",
    "Let's digest this...\n",
    "\n",
    "- by $\\{W^{(l)}\\}$ I mean the set of all $W$'s and all their elements\n",
    "- by $\\hat{y}_i$ I mean our prediction for example $x_i$, which we get from applying our recurrence relation $L$ times.\n",
    "\n",
    "We need $\\nabla f(W)$, which is the same as saying we need all the partial derivatives $\\frac{\\partial f}{\\partial W_{ij}}$.\n",
    "\n",
    "This is done via the chain rule. But we need to be careful not to _recompute_ things (remember dynamic programming? it was all about not recomputing things). \n",
    "\n",
    "We can draw a graph of what depends on what. Consider $\\frac{\\partial f}{\\partial W^{(0)}_{11}}$ and $\\frac{\\partial f}{\\partial W^{(0)}_{12}}$. These two derivatives have a lot in commmon, namely...\n",
    "\n",
    "$$ \\frac{\\partial f}{\\partial x^{(L)}} \\frac{\\partial x^{(L)}}{\\partial x^{(L-1)}} \\cdots \\frac{\\partial x^{(2)}}{\\partial x^{(1)}} \\frac{\\partial x^{(1)}}{\\partial W^{(0)}}$$ \n",
    "\n",
    "only the last part is different.\n",
    "\n",
    "- The method for applying the chain rule and not re-computing anything is called **backpropagation** or backprop for short. \n",
    "- Backprop is reverse-mode differentiation. So packages like [AutoGrad](https://github.com/HIPS/autograd) do it \"for free\".\n",
    "- Once we have the gradient, we can train with (stochastic) gradient descent. \n"
   ]
  },
  {
   "cell_type": "markdown",
   "metadata": {},
   "source": [
    "## Convolutions (10 min)\n",
    "\n",
    "- What is a convolution?\n",
    "- Convolutions appear all over the field of _signal processing_, which is traditionally a discipline within electrical engineering. But they also show up in math, physics, CS, etc. A lot of communications theory is based on this stuff.\n",
    "- What is a linear operator/transformation?\n",
    "  - in the discrete world, anything that can be represented as a matrix multiplication\n",
    "- 1-D convolutions\n",
    "- 2-D and higher-D convolutions\n",
    "- Boundary conditions: the output might be slightly bigger or slightly smaller, or the same\n",
    "  - these are the options in [scipy.signal.convolve2d](https://docs.scipy.org/doc/scipy-0.16.0/reference/generated/scipy.signal.convolve2d.html)\n",
    "- Convolution is often written as $x \\ast y$ \n",
    "- Convolution is commutative: $x \\ast y = y \\ast x$\n",
    "  - Nonetheless, we often have a \"signal\" and a \"filter\" and they have different interpretations\n",
    "  - The filter is often small and has an interpretation like \"highpass\" or \"lowpass\"\n"
   ]
  },
  {
   "cell_type": "markdown",
   "metadata": {},
   "source": [
    "- (optional): there is a fast implementations of convolution using the FFT (fast Fourier transform). For an $n\\times n$ image and $m\\times m$ filter this takes $nm\\log(nm)$ time instead of $n^2m^2$. For sufficiently big images and filters this is a big win BUT there's a catch, which is that the equivalence only holds for periodic boundary conditions. \n"
   ]
  },
  {
   "cell_type": "markdown",
   "metadata": {},
   "source": [
    "## True/false - convolutions (15 min)\n",
    "\n",
    "\n",
    "\n",
    "1. Convolving with the filter $w=[0.2, 0.2, 0.2, 0.2, 0.2]$ performs a local averaging operation.\n",
    "2. For a convolution to be valid, the values in the filter must add up to $1$ (e.g. $w=[0,1,0], w=\\left[\\frac13,\\frac13,\\frac13\\right]$, etc).\n",
    "3. 1D convolution is just a special case of 2D convolution where one of the dimensions of $w$ and $x$ happens to be 1.\n",
    "4. The convolution of a filter $w$ and signal $x$ is equivalent to the matrix multiplication $w^Tx$.\n",
    "\n",
    "<br><br><br><br><br><br><br><br>"
   ]
  },
  {
   "cell_type": "code",
   "execution_count": null,
   "metadata": {},
   "outputs": [],
   "source": []
  }
 ],
 "metadata": {
  "anaconda-cloud": {},
  "kernelspec": {
   "display_name": "Python 3",
   "language": "python",
   "name": "python3"
  },
  "language_info": {
   "codemirror_mode": {
    "name": "ipython",
    "version": 3
   },
   "file_extension": ".py",
   "mimetype": "text/x-python",
   "name": "python",
   "nbconvert_exporter": "python",
   "pygments_lexer": "ipython3",
   "version": "3.7.6"
  }
 },
 "nbformat": 4,
 "nbformat_minor": 4
}
